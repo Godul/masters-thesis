{
 "cells": [
  {
   "cell_type": "markdown",
   "metadata": {},
   "source": [
    "## The goal\n",
    "The **goal** of our experiments is to determine the coefficient $a_{t_i t_j}$ of impact of type ${t_i}$ on type ${t_j}$.\n",
    "\n",
    "We run the experiment and we calculate the coefficient. Then we run it again, and we get a slightly different result. We can proceed with that procedure and think of it as sampling a **distribution** of coefficients.\n",
    "\n",
    "### Is this distribution normal?\n",
    "This distribution is not necessarily normal, but we suspect it to be normal, because we use average latency/throughput from some time intervals to calculate our coefficient.\n",
    "\n",
    "Luckily, this can be checked with large enough sample: https://en.wikipedia.org/wiki/Normality_test\n",
    "\n",
    "### How to determine one coefficient from a list samples?\n",
    "This is an important conceptual question. We want a coefficient that reflects the impact of two types best.\n",
    "\n",
    "One of the possible aproaches is to simply take the **average coefficient**:\n",
    "* The average coefficient is the good for most number of cases - in total, we gain the most.\n",
    "* We already use average values to calculate the coefficient in every experiment\n",
    "\n",
    "### How many samples are necessary?\n",
    "We want to be as accurate as possible, but each experiment takes much time to run.\n",
    "\n",
    "If we use average coefficient, then we can use interval estimation to calculate the confidence interval with some confidence level, using following formula:\n",
    "\n",
    "$ P\\left({\\overline {X}}-u_{\\alpha }{\\frac {\\sigma }{\\sqrt {n}}}<m<{\\overline {X}}+u_{\\alpha }{\\frac {\\sigma }{\\sqrt {n}}}\\right)=1-\\alpha $\n",
    "\n",
    "where:\n",
    "* $n$ – sample size,\n",
    "* $\\overline {X}$ – average of the sample,\n",
    "* $\\sigma$  – standard deviation of the sample,\n",
    "* $u_{\\alpha }$ – a statistic satysfying $P(-u_{\\alpha }<U<u_{\\alpha })=1-\\alpha$, where $U$ is of $N(0,1)$\n",
    "\n",
    "Find more: https://en.wikipedia.org/wiki/Confidence_interval"
   ]
  },
  {
   "cell_type": "code",
   "execution_count": null,
   "outputs": [],
   "source": [
    "import numpy as np\n",
    "import scipy.stats\n",
    "\n",
    "\n",
    "def mean_confidence_interval(data, confidence=0.95):\n",
    "    a = 1.0 * np.array(data)\n",
    "    n = len(a)\n",
    "    m, se = np.mean(a), scipy.stats.sem(a)\n",
    "    h = se * scipy.stats.t.ppf((1 + confidence) / 2, n - 1)\n",
    "    return m, h\n",
    "\n",
    "\n",
    "def print_confidence_intervals(measurements):\n",
    "    confidences = [0.9, 0.95, 0.99, 0.999]\n",
    "    print(f'Measurements: {measurements}')\n",
    "    \n",
    "    for confidence in confidences:\n",
    "        m, h = mean_confidence_interval(measurements, confidence=confidence)\n",
    "        print(f'Mean is between {m-h:.4} and {m+h:.4} (±{h/m*100:.4}%) with confidence {confidence}')\n",
    "    print('')\n",
    "\n",
    "        \n",
    "measurements = [0.512, 0.534, 0.491]\n",
    "print_confidence_intervals(measurements)\n",
    "\n",
    "\n",
    "measurements = [0.512, 0.534, 0.491, 0.522]\n",
    "print_confidence_intervals(measurements)\n",
    "    \n",
    "measurements = [0.512, 0.534, 0.491, 0.522, 0.481]\n",
    "print_confidence_intervals(measurements)"
   ],
   "metadata": {
    "collapsed": false,
    "pycharm": {
     "name": "#%%\n"
    }
   }
  },
  {
   "cell_type": "markdown",
   "source": [
    "We can see that the interval is narrowing down significantly as size of sample increases.\n",
    "\n",
    "Here we have some linear regression coefficients obtained by adding instances of `redis_ycsb` on `naan`: `[0.01432621438691767, 0.014196753917670415, 0.014124212515962489, 0.014220166651701715]`. Let's see how our confidence intervals look like:"
   ],
   "metadata": {
    "collapsed": false
   }
  },
  {
   "cell_type": "code",
   "execution_count": null,
   "outputs": [],
   "source": [
    "measurements = [0.01432621438691767, 0.014196753917670415, 0.014124212515962489, 0.014220166651701715]\n",
    "\n",
    "for i in range(0,3):\n",
    "    print_confidence_intervals(measurements[:i+2])"
   ],
   "metadata": {
    "collapsed": false,
    "pycharm": {
     "name": "#%%\n"
    }
   }
  },
  {
   "cell_type": "markdown",
   "source": [
    "### Does machine configuration impact the coefficient?\n",
    "This is easy to check experimentally - run tests on different machine configurations and check if the difference is relevant."
   ],
   "metadata": {
    "collapsed": false
   }
  },
  {
   "cell_type": "code",
   "execution_count": null,
   "outputs": [],
   "source": [],
   "metadata": {
    "collapsed": false,
    "pycharm": {
     "name": "#%%\n"
    }
   }
  },
  {
   "cell_type": "code",
   "execution_count": 47,
   "metadata": {},
   "outputs": [
    {
     "name": "stdout",
     "output_type": "stream",
     "text": [
      "Measurements: [0.512, 0.534, 0.491]\n",
      "Mean is between 0.4761 and 0.5486 (±7.075%) with confidence 0.9\n",
      "Mean is between 0.4589 and 0.5657 (±10.43%) with confidence 0.95\n",
      "Mean is between 0.3891 and 0.6355 (±24.05%) with confidence 0.99\n",
      "Mean is between 0.1201 and 0.9046 (±76.57%) with confidence 0.999\n",
      "\n",
      "Measurements: [0.512, 0.534, 0.491, 0.522]\n",
      "Mean is between 0.4933 and 0.5362 (±4.163%) with confidence 0.9\n",
      "Mean is between 0.4858 and 0.5437 (±5.629%) with confidence 0.95\n",
      "Mean is between 0.4616 and 0.5679 (±10.33%) with confidence 0.99\n",
      "Mean is between 0.3971 and 0.6324 (±22.86%) with confidence 0.999\n",
      "\n",
      "Measurements: [0.512, 0.534, 0.491, 0.522, 0.481]\n",
      "Mean is between 0.4872 and 0.5288 (±4.097%) with confidence 0.9\n",
      "Mean is between 0.4809 and 0.5351 (±5.335%) with confidence 0.95\n",
      "Mean is between 0.4631 and 0.5529 (±8.848%) with confidence 0.99\n",
      "Mean is between 0.4239 and 0.5921 (±16.55%) with confidence 0.999\n",
      "\n"
     ]
    }
   ],
   "source": []
  },
  {
   "cell_type": "markdown",
   "metadata": {},
   "source": [
    "We can see that the interval is narrowing down significantly as size of sample increases.\n",
    "\n",
    "Here we have some linear regression coefficients obtained by adding instances of `redis_ycsb` on `naan`: `[0.01432621438691767, 0.014196753917670415, 0.014124212515962489, 0.014220166651701715]`. Let's see how our confidence intervals look like:"
   ]
  },
  {
   "cell_type": "code",
   "execution_count": 58,
   "metadata": {},
   "outputs": [
    {
     "name": "stdout",
     "output_type": "stream",
     "text": [
      "Measurements: [0.01432621438691767, 0.014196753917670415]\n",
      "Mean is between 0.01385 and 0.01467 (±2.866%) with confidence 0.9\n",
      "Mean is between 0.01344 and 0.01508 (±5.767%) with confidence 0.95\n",
      "Mean is between 0.01014 and 0.01838 (±28.89%) with confidence 0.99\n",
      "Mean is between -0.02695 and 0.05547 (±288.9%) with confidence 0.999\n",
      "\n",
      "Measurements: [0.01432621438691767, 0.014196753917670415, 0.014124212515962489]\n",
      "Mean is between 0.01404 and 0.01439 (±1.214%) with confidence 0.9\n",
      "Mean is between 0.01396 and 0.01447 (±1.788%) with confidence 0.95\n",
      "Mean is between 0.01363 and 0.0148 (±4.125%) with confidence 0.99\n",
      "Mean is between 0.01235 and 0.01608 (±13.13%) with confidence 0.999\n",
      "\n",
      "Measurements: [0.01432621438691767, 0.014196753917670415, 0.014124212515962489, 0.014220166651701715]\n",
      "Mean is between 0.01412 and 0.01432 (±0.6918%) with confidence 0.9\n",
      "Mean is between 0.01408 and 0.01435 (±0.9355%) with confidence 0.95\n",
      "Mean is between 0.01397 and 0.01446 (±1.717%) with confidence 0.99\n",
      "Mean is between 0.01368 and 0.01476 (±3.799%) with confidence 0.999\n",
      "\n"
     ]
    }
   ],
   "source": [
    "measurements = [0.01432621438691767, 0.014196753917670415, 0.014124212515962489, 0.014220166651701715]\n",
    "\n",
    "for i in range(0,3):\n",
    "    print_confidence_intervals(measurements[:i+2])"
   ]
  },
  {
   "cell_type": "markdown",
   "metadata": {},
   "source": [
    "### Does machine configuration impact the coefficient?\n",
    "This is easy to check experimentally - run tests on different machine configurations and check if the difference is relevant."
   ]
  },
  {
   "cell_type": "code",
   "execution_count": null,
   "metadata": {},
   "outputs": [],
   "source": []
  },
  {
   "cell_type": "code",
   "execution_count": null,
   "metadata": {},
   "outputs": [],
   "source": []
  }
 ],
 "metadata": {
  "kernelspec": {
   "display_name": "Python 3",
   "language": "python",
   "name": "python3"
  },
  "language_info": {
   "codemirror_mode": {
    "name": "ipython",
    "version": 3
   },
   "file_extension": ".py",
   "mimetype": "text/x-python",
   "name": "python",
   "nbconvert_exporter": "python",
   "pygments_lexer": "ipython3",
   "version": "3.7.5"
  },
  "pycharm": {
   "stem_cell": {
    "cell_type": "raw",
    "source": [],
    "metadata": {
     "collapsed": false
    }
   }
  }
 },
 "nbformat": 4,
 "nbformat_minor": 4
}