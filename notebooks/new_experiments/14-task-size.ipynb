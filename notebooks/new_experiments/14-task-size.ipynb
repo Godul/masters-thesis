{
 "cells": [
  {
   "cell_type": "code",
   "execution_count": 104,
   "metadata": {},
   "outputs": [],
   "source": [
    "from helpers.load_data import (\n",
    "    clean_column_names,\n",
    "    get_data_with_cpu,\n",
    "    get_experiments_paths,\n",
    "    remove_setup_datapoints,\n",
    "    trim_experiment,\n",
    ")\n",
    "from helpers.regression import (\n",
    "    boxplot_two,\n",
    "    boxplot_grid,\n",
    "    draw_regression_graph,\n",
    "    fit_regression,\n",
    ")\n",
    "\n",
    "from datetime import datetime\n",
    "from matplotlib.dates import DateFormatter\n",
    "import matplotlib.pyplot as plt\n",
    "import pandas as pd\n",
    "import seaborn as sns\n",
    "import statsmodels.api as sm\n",
    "\n",
    "\n",
    "plt.style.use('seaborn')"
   ]
  },
  {
   "cell_type": "code",
   "execution_count": 105,
   "metadata": {},
   "outputs": [],
   "source": [
    "instances_n=2\n",
    "experiments_path = '../../data'\n",
    "experiment_name='sysbench_tasksize'\n",
    "workload_a = 'sysbench'\n",
    "workload_b = 'sysbench'\n",
    "perf_metric = 'app_latency'\n",
    "path = get_experiments_paths(experiment_name, experiments_path)[0]\n",
    "df = get_data_with_cpu(path, instances_n=instances_n, cpu_window=30)\n",
    "df['time'] = pd.to_datetime(df['cbtool_time'], unit='s')"
   ]
  },
  {
   "cell_type": "code",
   "execution_count": 106,
   "metadata": {},
   "outputs": [],
   "source": [
    "df = df[(df.index < 21) | (df.index > 26)]"
   ]
  },
  {
   "cell_type": "code",
   "execution_count": 107,
   "metadata": {},
   "outputs": [],
   "source": [
    "a = df[df['instances_n'] == 1]['app_latency'].mean()\n",
    "c = df[df['instances_n'] == 2]['app_latency'].mean()"
   ]
  },
  {
   "cell_type": "code",
   "execution_count": 108,
   "metadata": {},
   "outputs": [],
   "source": [
    "instances_n=12\n",
    "experiments_path = '../../data/basic'\n",
    "experiment_name='sysbench_1_sysbench_11'\n",
    "workload_a = 'sysbench'\n",
    "workload_b = 'sysbench'\n",
    "perf_metric = 'app_latency'\n",
    "path = get_experiments_paths(experiment_name, experiments_path)[0]\n",
    "df = get_data_with_cpu(path, instances_n=instances_n, cpu_window=30)\n",
    "df['time'] = pd.to_datetime(df['cbtool_time'], unit='s')"
   ]
  },
  {
   "cell_type": "code",
   "execution_count": 109,
   "metadata": {},
   "outputs": [],
   "source": [
    "df = remove_setup_datapoints(df, path)"
   ]
  },
  {
   "cell_type": "code",
   "execution_count": 110,
   "metadata": {},
   "outputs": [],
   "source": [
    "a = (a + df[df['instances_n'] == 1]['app_latency'].mean()) / 2"
   ]
  },
  {
   "cell_type": "code",
   "execution_count": 111,
   "metadata": {},
   "outputs": [],
   "source": [
    "b = df[df['instances_n'] == 2]['app_latency'].mean()"
   ]
  },
  {
   "cell_type": "code",
   "execution_count": 117,
   "metadata": {},
   "outputs": [
    {
     "name": "stdout",
     "output_type": "stream",
     "text": [
      "Sysbench1: 39.5905\n",
      "Sysbench1 + Sysbench1: 64.1138\n",
      "Sysbench1 + Sysbench3: 72.4129\n",
      "Diff_1: 24.5233\n",
      "Diff_2: 32.8223\n"
     ]
    }
   ],
   "source": [
    "print(f'Sysbench1: {a:.4f}')\n",
    "print(f'Sysbench1 + Sysbench1: {b:.4f}')\n",
    "print(f'Sysbench1 + Sysbench3: {c:.4f}')\n",
    "print(f'Diff_1: {b - a:.4f}')\n",
    "print(f'Diff_2: {c - a:.4f}')"
   ]
  },
  {
   "cell_type": "code",
   "execution_count": 118,
   "metadata": {},
   "outputs": [
    {
     "name": "stdout",
     "output_type": "stream",
     "text": [
      "New size: 1.3384\n"
     ]
    }
   ],
   "source": [
    "print(f'New size: {(c - a) / (b - a):.4f}')"
   ]
  },
  {
   "cell_type": "code",
   "execution_count": null,
   "metadata": {},
   "outputs": [],
   "source": []
  }
 ],
 "metadata": {
  "kernelspec": {
   "display_name": "Python 3",
   "language": "python",
   "name": "python3"
  },
  "language_info": {
   "codemirror_mode": {
    "name": "ipython",
    "version": 3
   },
   "file_extension": ".py",
   "mimetype": "text/x-python",
   "name": "python",
   "nbconvert_exporter": "python",
   "pygments_lexer": "ipython3",
   "version": "3.7.5"
  }
 },
 "nbformat": 4,
 "nbformat_minor": 4
}
