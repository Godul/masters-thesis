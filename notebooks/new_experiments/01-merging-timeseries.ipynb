{
 "cells": [
  {
   "cell_type": "markdown",
   "metadata": {},
   "source": [
    "# How to merge our time series?\n",
    "\n",
    "## Time between consecutive data points\n",
    "\n",
    "So far we have 3 data sources:\n",
    "* **Cbtool data** (`VM_runtime_app_*.csv`)\n",
    "* **CPU+Memory** (`metric_node_baati_cpu.csv`, `metric_node_baati_memory.csv`)\n",
    "* **OS metrics** (`metric_os.csv`)\n",
    "\n",
    "We need to check what are the time differences between consecutive data points to be able to merge those sources reasonably.\n",
    "\n",
    "We'll use data from `linpack_12x20` experiment."
   ]
  },
  {
   "cell_type": "code",
   "execution_count": 1,
   "metadata": {},
   "outputs": [],
   "source": [
    "from collections import defaultdict\n",
    "\n",
    "import pandas as pd\n",
    "\n",
    "from helpers.load_data import (\n",
    "    get_cbtool_data,\n",
    "    get_cpu_data,\n",
    "    get_experiments_paths,\n",
    "    get_mem_data,\n",
    "    get_os_metrics,\n",
    ")\n",
    "\n",
    "\n",
    "def count_time_diffs(df: pd.DataFrame):\n",
    "    res = defaultdict(int)\n",
    "\n",
    "    for i in range(1, len(df)):\n",
    "        diff = df['time'].iloc[i] - df['time'].iloc[i - 1]\n",
    "        res[diff] += 1\n",
    "\n",
    "    return res\n",
    "\n",
    "\n",
    "def print_time_diffs(diff_count: dict):\n",
    "    print('Differences between consecutive data points:')\n",
    "    \n",
    "    diff_sum = 0\n",
    "    number = 0\n",
    "    \n",
    "    for diff, count in sorted(diff_count.items()):\n",
    "        print(f'{diff} seconds: {count} times')\n",
    "        diff_sum += diff * count\n",
    "        number += count\n",
    "    \n",
    "    print(f'Average time diff: {diff_sum / number:.4f}')\n",
    "        \n",
    "\n",
    "experiments_path = '../../data'\n",
    "experiment_name = 'linpack_1_linpack_11'\n",
    "path = list(get_experiments_paths(experiment_name, experiments_path))[0]"
   ]
  },
  {
   "cell_type": "markdown",
   "metadata": {},
   "source": [
    "### Cbtool data"
   ]
  },
  {
   "cell_type": "code",
   "execution_count": 2,
   "metadata": {},
   "outputs": [
    {
     "name": "stdout",
     "output_type": "stream",
     "text": [
      "Differences between consecutive data points:\n",
      "83 seconds: 3 times\n",
      "84 seconds: 5 times\n",
      "85 seconds: 4 times\n",
      "86 seconds: 1 times\n",
      "87 seconds: 1 times\n",
      "88 seconds: 1 times\n",
      "89 seconds: 16 times\n",
      "90 seconds: 21 times\n",
      "91 seconds: 6 times\n",
      "92 seconds: 8 times\n",
      "94 seconds: 1 times\n",
      "95 seconds: 5 times\n",
      "96 seconds: 6 times\n",
      "97 seconds: 2 times\n",
      "98 seconds: 2 times\n",
      "101 seconds: 1 times\n",
      "108 seconds: 1 times\n",
      "109 seconds: 1 times\n",
      "110 seconds: 1 times\n",
      "111 seconds: 1 times\n",
      "115 seconds: 1 times\n",
      "118 seconds: 2 times\n",
      "129 seconds: 2 times\n",
      "139 seconds: 1 times\n",
      "143 seconds: 1 times\n",
      "144 seconds: 1 times\n",
      "148 seconds: 1 times\n",
      "159 seconds: 1 times\n",
      "167 seconds: 1 times\n",
      "171 seconds: 1 times\n",
      "175 seconds: 1 times\n",
      "179 seconds: 1 times\n",
      "180 seconds: 2 times\n",
      "181 seconds: 3 times\n",
      "182 seconds: 1 times\n",
      "183 seconds: 1 times\n",
      "187 seconds: 2 times\n",
      "188 seconds: 1 times\n",
      "189 seconds: 1 times\n",
      "190 seconds: 1 times\n",
      "191 seconds: 1 times\n",
      "192 seconds: 1 times\n",
      "193 seconds: 1 times\n",
      "194 seconds: 1 times\n",
      "199 seconds: 1 times\n",
      "201 seconds: 2 times\n",
      "204 seconds: 1 times\n",
      "214 seconds: 1 times\n",
      "237 seconds: 1 times\n",
      "325 seconds: 1 times\n",
      "348 seconds: 1 times\n",
      "375 seconds: 1 times\n",
      "393 seconds: 1 times\n",
      "Average time diff: 123.2283\n"
     ]
    }
   ],
   "source": [
    "df_cbt = get_cbtool_data(path, instances_n=12)\n",
    "diff_count = count_time_diffs(df_cbt)\n",
    "print_time_diffs(diff_count)"
   ]
  },
  {
   "cell_type": "markdown",
   "metadata": {},
   "source": [
    "The tests are run sequentially. We can see that initially, when there is only one instance on the machine, the completion time is around `52` seconds.  When more instances are added, the completion time lengthens to even `238` seconds."
   ]
  },
  {
   "cell_type": "markdown",
   "metadata": {},
   "source": [
    "### CPU / Memory"
   ]
  },
  {
   "cell_type": "code",
   "execution_count": 3,
   "metadata": {},
   "outputs": [
    {
     "name": "stdout",
     "output_type": "stream",
     "text": [
      "Differences between consecutive data points:\n",
      "10 seconds: 532 times\n",
      "11 seconds: 22 times\n",
      "20 seconds: 508 times\n",
      "21 seconds: 35 times\n",
      "30 seconds: 6 times\n",
      "31 seconds: 2 times\n",
      "Average time diff: 15.1122\n"
     ]
    }
   ],
   "source": [
    "df_cpu = get_cpu_data(path)\n",
    "diff_count = count_time_diffs(df_cpu)\n",
    "print_time_diffs(diff_count)"
   ]
  },
  {
   "cell_type": "markdown",
   "metadata": {},
   "source": [
    "From the field `windowSeconds` we know that each CPU/memory value is averaged from the last `30` seconds.\n",
    "\n",
    "We can see that these metrics gathered mostly every `10` or `20` seconds."
   ]
  },
  {
   "cell_type": "markdown",
   "metadata": {},
   "source": [
    "### OS metrics"
   ]
  },
  {
   "cell_type": "code",
   "execution_count": 4,
   "metadata": {},
   "outputs": [
    {
     "name": "stdout",
     "output_type": "stream",
     "text": [
      "Differences between consecutive data points:\n",
      "1 seconds: 753 times\n",
      "2 seconds: 78 times\n",
      "3 seconds: 63 times\n",
      "4 seconds: 480 times\n",
      "5 seconds: 2536 times\n",
      "6 seconds: 166 times\n",
      "Average time diff: 4.0957\n"
     ]
    }
   ],
   "source": [
    "df_os = get_os_metrics(path)\n",
    "diff_count = count_time_diffs(df_os)\n",
    "print_time_diffs(diff_count)"
   ]
  },
  {
   "cell_type": "markdown",
   "metadata": {},
   "source": [
    "On the other hand, OS metrics are gathered more regularly - the frequency is `~5s` with some small delays."
   ]
  },
  {
   "cell_type": "code",
   "execution_count": 5,
   "metadata": {},
   "outputs": [
    {
     "data": {
      "text/plain": [
       "1952"
      ]
     },
     "execution_count": 5,
     "metadata": {},
     "output_type": "execute_result"
    }
   ],
   "source": [
    "a = list(df_os.columns)\n",
    "[x for x in a if 'mem' in x]\n",
    "len(a)"
   ]
  },
  {
   "cell_type": "markdown",
   "metadata": {},
   "source": [
    "## Emerging problems\n",
    "\n",
    "#### **1. Our dataseries have different frequencies and semantics.**\n",
    "* Cbtool `app_latency` and `app_throughput` is an average from a single workload. The completion time of the workload varies with time (depends on the performance of the machine).\n",
    "\n",
    "* CPU/memory metrics are averages from last `30s` and have alternating frequency (lower than `30s`).\n",
    "\n",
    "* OS metrics are measurements in a given time, but the semantic depends on the metrics class. More info at: https://github.com/prometheus/node_exporter#enabled-by-default\n",
    "\n",
    "#### **2. New instance can be running for a while without any trace in cbtool metrics.**\n",
    "Imagine a situation, in which completion time of the workload is initially 50s. One instance is running and then we add a second instance at time `T`. If we take first metric of the second instance (time `T+50`) as a point dividing `instances_n=1` and `instances_n=2`, then we have 50 seconds of two instances running while `instances_n=1`, so we need to take that into account.\n",
    "\n",
    "## Solution\n",
    "\n",
    "### How to merge Cbtool metrics with CPU/memory metrics?\n",
    "\n",
    "Cbtool metrics are the rarest, so for every Cbtool metric, we want to select and average CPU metrics that correspond CPU load during running the workload run. We have cbtool windows (50-300s) and CPU windows (30s) every 10/20s that overlap, so multiple CPU windows can fit into one Cbtool window.\n",
    "\n",
    "If we average overlapping windows, it will work like a weighted average.\n",
    "\n",
    "If we select only one CPU window within Cbtool window, then it will only represent a part of the experiment.\n",
    "\n",
    "Another idea is to take as many non-overlapping CPU windows as we can and average them.\n",
    "\n",
    "### How to merge Cbtool metrics with OS metrics?\n",
    "\n",
    "We just take all OS metrics fitting into Cbtool window and average them."
   ]
  },
  {
   "cell_type": "markdown",
   "metadata": {},
   "source": [
    "## Implementation\n",
    "\n",
    "Let's see how new implementation compares to the old one."
   ]
  },
  {
   "cell_type": "code",
   "execution_count": 6,
   "metadata": {},
   "outputs": [
    {
     "ename": "StopIteration",
     "evalue": "",
     "output_type": "error",
     "traceback": [
      "\u001b[0;31m---------------------------------------------------------------------------\u001b[0m",
      "\u001b[0;31mStopIteration\u001b[0m                             Traceback (most recent call last)",
      "\u001b[0;32m<ipython-input-6-c0a0d5e4f042>\u001b[0m in \u001b[0;36m<module>\u001b[0;34m\u001b[0m\n\u001b[1;32m     12\u001b[0m \u001b[0mexperiments_path\u001b[0m \u001b[0;34m=\u001b[0m \u001b[0;34m'../../data'\u001b[0m\u001b[0;34m\u001b[0m\u001b[0;34m\u001b[0m\u001b[0m\n\u001b[1;32m     13\u001b[0m \u001b[0mexperiment_name\u001b[0m \u001b[0;34m=\u001b[0m \u001b[0;34m'linpack_12x20'\u001b[0m\u001b[0;34m\u001b[0m\u001b[0;34m\u001b[0m\u001b[0m\n\u001b[0;32m---> 14\u001b[0;31m \u001b[0mpath\u001b[0m \u001b[0;34m=\u001b[0m \u001b[0mnext\u001b[0m\u001b[0;34m(\u001b[0m\u001b[0mget_experiments_paths\u001b[0m\u001b[0;34m(\u001b[0m\u001b[0mexperiment_name\u001b[0m\u001b[0;34m,\u001b[0m \u001b[0mexperiments_path\u001b[0m\u001b[0;34m)\u001b[0m\u001b[0;34m)\u001b[0m\u001b[0;34m\u001b[0m\u001b[0;34m\u001b[0m\u001b[0m\n\u001b[0m\u001b[1;32m     15\u001b[0m \u001b[0mdf1\u001b[0m \u001b[0;34m=\u001b[0m \u001b[0mget_data_with_metrics_old\u001b[0m\u001b[0;34m(\u001b[0m\u001b[0mpath\u001b[0m\u001b[0;34m,\u001b[0m \u001b[0minstances_n\u001b[0m\u001b[0;34m=\u001b[0m\u001b[0;36m12\u001b[0m\u001b[0;34m,\u001b[0m \u001b[0mmax_time_diff\u001b[0m\u001b[0;34m=\u001b[0m\u001b[0;36m5\u001b[0m\u001b[0;34m)\u001b[0m\u001b[0;34m\u001b[0m\u001b[0;34m\u001b[0m\u001b[0m\n\u001b[1;32m     16\u001b[0m \u001b[0mdf1\u001b[0m \u001b[0;34m=\u001b[0m \u001b[0mtrim_experiment\u001b[0m\u001b[0;34m(\u001b[0m\u001b[0mdf1\u001b[0m\u001b[0;34m,\u001b[0m \u001b[0;36m6\u001b[0m\u001b[0;34m)\u001b[0m\u001b[0;34m\u001b[0m\u001b[0;34m\u001b[0m\u001b[0m\n",
      "\u001b[0;31mStopIteration\u001b[0m: "
     ]
    }
   ],
   "source": [
    "from helpers.load_data import (\n",
    "    get_data_with_metrics,\n",
    "    get_data_with_metrics_old,\n",
    "    trim_experiment,\n",
    ")\n",
    "from helpers.regression import (\n",
    "    draw_regression_graph,\n",
    "    fit_regression,\n",
    ")\n",
    "\n",
    "\n",
    "experiments_path = '../../data'\n",
    "experiment_name = 'linpack_12x20'\n",
    "path = next(get_experiments_paths(experiment_name, experiments_path))\n",
    "df1 = get_data_with_metrics_old(path, instances_n=12, max_time_diff=5)\n",
    "df1 = trim_experiment(df1, 6)\n",
    "df2 = get_data_with_metrics(path, instances_n=12, cpu_window=30)\n",
    "df2 = trim_experiment(df2, 6)"
   ]
  },
  {
   "cell_type": "markdown",
   "metadata": {},
   "source": [
    "### Old - `cpu ~ instances_n`"
   ]
  },
  {
   "cell_type": "code",
   "execution_count": null,
   "metadata": {},
   "outputs": [],
   "source": [
    "results = fit_regression(data=df1, formula='cpu ~ instances_n')\n",
    "draw_regression_graph(results, df1, metric_name='cpu', variable='instances_n')\n",
    "print(results.summary())"
   ]
  },
  {
   "cell_type": "markdown",
   "metadata": {},
   "source": [
    "### New - `cpu ~ instances_n`"
   ]
  },
  {
   "cell_type": "code",
   "execution_count": null,
   "metadata": {},
   "outputs": [],
   "source": [
    "results = fit_regression(data=df2, formula='cpu ~ instances_n')\n",
    "draw_regression_graph(results, df2, metric_name='cpu', variable='instances_n')\n",
    "print(results.summary())"
   ]
  },
  {
   "cell_type": "markdown",
   "metadata": {},
   "source": [
    "### Old - `app_throughput ~ instances_n`"
   ]
  },
  {
   "cell_type": "code",
   "execution_count": null,
   "metadata": {},
   "outputs": [],
   "source": [
    "results = fit_regression(data=df1, formula='app_throughput ~ instances_n')\n",
    "draw_regression_graph(results, df1, metric_name='app_throughput', variable='instances_n')\n",
    "print(results.summary())"
   ]
  },
  {
   "cell_type": "markdown",
   "metadata": {},
   "source": [
    "### New - `app_throughput ~ instances_n`"
   ]
  },
  {
   "cell_type": "code",
   "execution_count": null,
   "metadata": {},
   "outputs": [],
   "source": [
    "results = fit_regression(data=df2, formula='app_throughput ~ instances_n')\n",
    "draw_regression_graph(results, df2, metric_name='app_throughput', variable='instances_n')\n",
    "print(results.summary())"
   ]
  },
  {
   "cell_type": "markdown",
   "metadata": {},
   "source": [
    "### Old - `app_throughput ~ cpu`"
   ]
  },
  {
   "cell_type": "code",
   "execution_count": null,
   "metadata": {},
   "outputs": [],
   "source": [
    "results = fit_regression(data=df1, formula='app_throughput ~ cpu')\n",
    "draw_regression_graph(results, df1, metric_name='app_throughput', variable='cpu')\n",
    "print(results.summary())"
   ]
  },
  {
   "cell_type": "markdown",
   "metadata": {},
   "source": [
    "### New - `app_throughput ~ cpu`"
   ]
  },
  {
   "cell_type": "code",
   "execution_count": null,
   "metadata": {},
   "outputs": [],
   "source": [
    "results = fit_regression(data=df2, formula='app_throughput ~ cpu')\n",
    "draw_regression_graph(results, df2, metric_name='app_throughput', variable='cpu')\n",
    "print(results.summary())"
   ]
  },
  {
   "cell_type": "markdown",
   "metadata": {},
   "source": [
    "### CBTOOL metric interval coverage"
   ]
  },
  {
   "cell_type": "code",
   "execution_count": 9,
   "metadata": {},
   "outputs": [
    {
     "data": {
      "image/png": "[encoded data removed]",
      "text/plain": [
       "<Figure size 936x576 with 1 Axes>"
      ]
     },
     "metadata": {},
     "output_type": "display_data"
    }
   ],
   "source": [
    "import matplotlib.pyplot as plt\n",
    "\n",
    "def coverage_pessimistic(x: int) -> float:\n",
    "    return ((x - 15) // 30) * 30 / x * 100\n",
    "\n",
    "def coverage_optimistic(x: int) -> float:\n",
    "    return x // 30 * 30 / x * 100\n",
    "\n",
    "xs = list(range(15, 185, 1))\n",
    "ys = [coverage_pessimistic(x) for x in xs]\n",
    "ys2 = [coverage_optimistic(x) for x in xs]\n",
    "df_cov = pd.DataFrame({'interval_length': xs, 'Pessimistic coverage': ys, 'Optimistic coverage': ys2})\n",
    "ax = df_cov.plot(x='interval_length', y=['Pessimistic coverage'], figsize=(13,8))\n",
    "ax.set_xlabel('Interval length [s]')\n",
    "ax.set_ylabel('Pessimistic coverage [%]')\n",
    "ax.set_title('Pessimistic coverage vs CBTOOL metric interval length')\n",
    "ax.set_xticks(range(15, 190, 15))\n",
    "ax.set_yticks(range(0, 101, 10))\n",
    "ax.legend(loc='best')\n",
    "plt.savefig('coverage.png')"
   ]
  },
  {
   "cell_type": "code",
   "execution_count": 88,
   "metadata": {},
   "outputs": [
    {
     "data": {
      "image/png": "[encoded data removed]",
      "text/plain": [
       "<Figure size 864x432 with 1 Axes>"
      ]
     },
     "metadata": {},
     "output_type": "display_data"
    }
   ],
   "source": [
    "experiments_path = '../../data'\n",
    "experiment_name = 'redis_ycsb_d_1_redis_ycsb_d_9'\n",
    "\n",
    "diff_count = defaultdict(int)\n",
    "\n",
    "df_cbt = pd.DataFrame()\n",
    "for path in list(get_experiments_paths(experiment_name, experiments_path))[:]:\n",
    "    df_cbt = df_cbt.append(get_cbtool_data(path, instances_n=10))\n",
    "\n",
    "ax = df_cbt['app_completion_time'].plot.hist(bins=45, figsize=(12,6))\n",
    "ax.set_xlabel('Completion time [s]')\n",
    "ax.set_ylabel('Frequency')\n",
    "ax.set_title('Redis YCSB completion time distribution')\n",
    "plt.savefig('graphs/redis_ycsb_completion_time_distribution.png')"
   ]
  },
  {
   "cell_type": "code",
   "execution_count": null,
   "metadata": {},
   "outputs": [],
   "source": []
  }
 ],
 "metadata": {
  "kernelspec": {
   "display_name": "Python 3",
   "language": "python",
   "name": "python3"
  },
  "language_info": {
   "codemirror_mode": {
    "name": "ipython",
    "version": 3
   },
   "file_extension": ".py",
   "mimetype": "text/x-python",
   "name": "python",
   "nbconvert_exporter": "python",
   "pygments_lexer": "ipython3",
   "version": "3.7.5"
  }
 },
 "nbformat": 4,
 "nbformat_minor": 4
}
