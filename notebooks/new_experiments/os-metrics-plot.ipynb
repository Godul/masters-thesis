{
 "cells": [
  {
   "cell_type": "markdown",
   "metadata": {},
   "source": [
    "# Plot all OS metrics\n",
    "\n",
    "Function plots all OS metrics of an experiment.\n",
    "\n",
    "As we can see, some of them are staircase shaped, so they could be a candidate for a feature in our models, e.g.:\n",
    "* `node_memory_Active_anon_bytes`\n",
    "* `node_filefd_allocated`\n",
    "* `node_memory_Buffers_bytes`\n",
    "* `node_memory_Shmem_bytes`\n",
    "* `node_memory_Slab_bytes`\n",
    "* `node_disk_written_bytes_total{device=\"dm-0\"}`\n",
    "* `node_memory_AnonPages_bytes`\n",
    "* `node_load1`\n",
    "* `node_sockstat_sockets_used`\n",
    "* `node_memory_PageTables_bytes`\n",
    "* `node_memory_Commited_AS_bytes`\n",
    "* `node_memory_KernelStack_bytes`"
   ]
  },
  {
   "cell_type": "code",
   "execution_count": null,
   "metadata": {},
   "outputs": [],
   "source": [
    "import csv\n",
    "import pandas as pd\n",
    "import matplotlib.pyplot as plt\n",
    "\n",
    "import glob\n",
    "\n",
    "\n",
    "def plot_os_metrics(experiment_name: str, experiments_path: str):\n",
    "    with open(f'{experiments_path}/{experiment_name}/resources/metric_os.csv', 'r') as file:\n",
    "        csv_reader = csv.reader(file)\n",
    "        metrics = list(next(csv_reader))\n",
    "        data = list(csv_reader)\n",
    "\n",
    "    df = pd.DataFrame.from_records(data, columns=metrics)\n",
    "\n",
    "    for column_name in df.columns:\n",
    "        try:\n",
    "            df[column_name] = df[column_name].apply(float)\n",
    "            plt.subplots(figsize=(8,4))\n",
    "            df[column_name].plot(title=column_name)\n",
    "            plt.show()\n",
    "        except ValueError as e:\n",
    "            print(f'Cannot plot {column_name}.')\n",
    "            print(str(e))\n",
    "            print(f'Value: {df[column_name][0]}')\n",
    "\n",
    "\n",
    "experiments_path = '../../data'"
   ]
  },
  {
   "cell_type": "code",
   "execution_count": null,
   "metadata": {},
   "outputs": [],
   "source": [
    "experiment_name = 'linpack_12x20_m1'\n",
    "plot_os_metrics(experiment_name, experiments_path)"
   ]
  }
 ],
 "metadata": {
  "kernelspec": {
   "display_name": "Python 3",
   "language": "python",
   "name": "python3"
  },
  "language_info": {
   "codemirror_mode": {
    "name": "ipython",
    "version": 3
   },
   "file_extension": ".py",
   "mimetype": "text/x-python",
   "name": "python",
   "nbconvert_exporter": "python",
   "pygments_lexer": "ipython3",
   "version": "3.7.5"
  },
  "pycharm": {
   "stem_cell": {
    "cell_type": "raw",
    "metadata": {
     "collapsed": false
    },
    "source": []
   }
  }
 },
 "nbformat": 4,
 "nbformat_minor": 4
}
