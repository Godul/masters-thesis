{
 "cells": [
  {
   "cell_type": "markdown",
   "metadata": {},
   "source": [
    "## The goal\n",
    "The **goal** of our experiments is to determine the coefficient $a_{t_i t_j}$ of impact of type ${t_i}$ on type ${t_j}$.\n",
    "\n",
    "We run the experiment and we calculate the coefficient. Then we run it again, and we get a slightly different result. We can proceed with that procedure and think of it as sampling a **distribution** of coefficients.\n",
    "\n",
    "### Is this distribution normal?\n",
    "This distribution is not necessarily normal, but we suspect it to be normal, because we use average latency/throughput from some time intervals to calculate our coefficient.\n",
    "\n",
    "Luckily, this can be checked with large enough sample: https://en.wikipedia.org/wiki/Normality_test\n",
    "\n",
    "### How to determine one coefficient from a list samples?\n",
    "This is an important conceptual question. We want a coefficient that reflects the impact of two types best.\n",
    "\n",
    "One of the possible aproaches is to simply take the **average coefficient**:\n",
    "* The average coefficient is the good for most number of cases - in total, we gain the most.\n",
    "* We already use average values to calculate the coefficient in every experiment\n",
    "\n",
    "### How many samples are necessary?\n",
    "We want to be as accurate as possible, but each experiment takes much time to run.\n",
    "\n",
    "If we use average coefficient, then we can use interval estimation to calculate the confidence interval with some confidence level, using following formula:\n",
    "\n",
    "$ P\\left({\\overline {X}}-u_{\\alpha }{\\frac {\\sigma }{\\sqrt {n}}}<m<{\\overline {X}}+u_{\\alpha }{\\frac {\\sigma }{\\sqrt {n}}}\\right)=1-\\alpha $\n",
    "\n",
    "where:\n",
    "* $n$ – sample size,\n",
    "* $\\overline {X}$ – average of the sample,\n",
    "* $\\sigma$  – standard deviation of the sample,\n",
    "* $u_{\\alpha }$ – a statistic satysfying $P(-u_{\\alpha }<U<u_{\\alpha })=1-\\alpha$, where $U$ is of $N(0,1)$\n",
    "\n",
    "Find more: https://en.wikipedia.org/wiki/Confidence_interval"
   ]
  },
  {
   "cell_type": "code",
   "execution_count": 2,
   "metadata": {
    "collapsed": false,
    "jupyter": {
     "outputs_hidden": false
    },
    "pycharm": {
     "name": "#%%\n"
    }
   },
   "outputs": [
    {
     "name": "stdout",
     "output_type": "stream",
     "text": [
      "Measurements: [0.512, 0.534, 0.491]\n",
      "Mean is between 0.4889 and 0.5357 (±4.569%) with confidence 0.8\n",
      "Mean is between 0.4761 and 0.5486 (±7.075%) with confidence 0.9\n",
      "Mean is between 0.4589 and 0.5657 (±10.43%) with confidence 0.95\n",
      "Mean is between 0.3891 and 0.6355 (±24.05%) with confidence 0.99\n",
      "Mean is between 0.1201 and 0.9046 (±76.57%) with confidence 0.999\n",
      "\n",
      "Measurements: [0.512, 0.534, 0.491, 0.522]\n",
      "Mean is between 0.4998 and 0.5297 (±2.897%) with confidence 0.8\n",
      "Mean is between 0.4933 and 0.5362 (±4.163%) with confidence 0.9\n",
      "Mean is between 0.4858 and 0.5437 (±5.629%) with confidence 0.95\n",
      "Mean is between 0.4616 and 0.5679 (±10.33%) with confidence 0.99\n",
      "Mean is between 0.3971 and 0.6324 (±22.86%) with confidence 0.999\n",
      "\n",
      "Measurements: [0.512, 0.534, 0.491, 0.522, 0.481]\n",
      "Mean is between 0.493 and 0.523 (±2.946%) with confidence 0.8\n",
      "Mean is between 0.4872 and 0.5288 (±4.097%) with confidence 0.9\n",
      "Mean is between 0.4809 and 0.5351 (±5.335%) with confidence 0.95\n",
      "Mean is between 0.4631 and 0.5529 (±8.848%) with confidence 0.99\n",
      "Mean is between 0.4239 and 0.5921 (±16.55%) with confidence 0.999\n",
      "\n"
     ]
    }
   ],
   "source": [
    "import numpy as np\n",
    "import scipy.stats\n",
    "\n",
    "\n",
    "def mean_confidence_interval(data, confidence=0.95):\n",
    "    a = 1.0 * np.array(data)\n",
    "    n = len(a)\n",
    "    m, se = np.mean(a), scipy.stats.sem(a)\n",
    "    h = se * scipy.stats.t.ppf((1 + confidence) / 2, n - 1)\n",
    "    return m, h\n",
    "\n",
    "\n",
    "def print_confidence_intervals(measurements):\n",
    "    confidences = [0.8, 0.9, 0.95, 0.99, 0.999]\n",
    "    print(f'Measurements: {measurements}')\n",
    "    \n",
    "    for confidence in confidences:\n",
    "        m, h = mean_confidence_interval(measurements, confidence=confidence)\n",
    "        print(f'Mean is between {m-h:.4} and {m+h:.4} (±{h/m*100:.4}%) with confidence {confidence}')\n",
    "    print('')\n",
    "\n",
    "        \n",
    "measurements = [0.512, 0.534, 0.491]\n",
    "print_confidence_intervals(measurements)\n",
    "\n",
    "\n",
    "measurements = [0.512, 0.534, 0.491, 0.522]\n",
    "print_confidence_intervals(measurements)\n",
    "    \n",
    "measurements = [0.512, 0.534, 0.491, 0.522, 0.481]\n",
    "print_confidence_intervals(measurements)"
   ]
  },
  {
   "cell_type": "markdown",
   "metadata": {},
   "source": [
    "We can see that the interval is narrowing down significantly as size of sample increases.\n",
    "\n",
    "Here we have some linear regression coefficients obtained by adding instances of `redis_ycsb` on `naan`: `[0.01432621438691767, 0.014196753917670415, 0.014124212515962489, 0.014220166651701715]`. Let's see how our confidence intervals look like:"
   ]
  },
  {
   "cell_type": "code",
   "execution_count": 3,
   "metadata": {
    "collapsed": false,
    "jupyter": {
     "outputs_hidden": false
    },
    "pycharm": {
     "name": "#%%\n"
    }
   },
   "outputs": [
    {
     "name": "stdout",
     "output_type": "stream",
     "text": [
      "Measurements: [0.01432621438691767, 0.014196753917670415]\n",
      "Mean is between 0.01406 and 0.01446 (±1.397%) with confidence 0.8\n",
      "Mean is between 0.01385 and 0.01467 (±2.866%) with confidence 0.9\n",
      "Mean is between 0.01344 and 0.01508 (±5.767%) with confidence 0.95\n",
      "Mean is between 0.01014 and 0.01838 (±28.89%) with confidence 0.99\n",
      "Mean is between -0.02695 and 0.05547 (±288.9%) with confidence 0.999\n",
      "\n",
      "Measurements: [0.01432621438691767, 0.014196753917670415, 0.014124212515962489]\n",
      "Mean is between 0.0141 and 0.01433 (±0.7836%) with confidence 0.8\n",
      "Mean is between 0.01404 and 0.01439 (±1.214%) with confidence 0.9\n",
      "Mean is between 0.01396 and 0.01447 (±1.788%) with confidence 0.95\n",
      "Mean is between 0.01363 and 0.0148 (±4.125%) with confidence 0.99\n",
      "Mean is between 0.01235 and 0.01608 (±13.13%) with confidence 0.999\n",
      "\n",
      "Measurements: [0.01432621438691767, 0.014196753917670415, 0.014124212515962489, 0.014220166651701715]\n",
      "Mean is between 0.01415 and 0.01429 (±0.4814%) with confidence 0.8\n",
      "Mean is between 0.01412 and 0.01432 (±0.6918%) with confidence 0.9\n",
      "Mean is between 0.01408 and 0.01435 (±0.9355%) with confidence 0.95\n",
      "Mean is between 0.01397 and 0.01446 (±1.717%) with confidence 0.99\n",
      "Mean is between 0.01368 and 0.01476 (±3.799%) with confidence 0.999\n",
      "\n"
     ]
    }
   ],
   "source": [
    "measurements = [0.01432621438691767, 0.014196753917670415, 0.014124212515962489, 0.014220166651701715]\n",
    "\n",
    "for i in range(0,3):\n",
    "    print_confidence_intervals(measurements[:i+2])"
   ]
  },
  {
   "cell_type": "markdown",
   "metadata": {},
   "source": [
    "We can see that the interval is narrowing down significantly as size of sample increases.\n",
    "\n",
    "Here we have some linear regression coefficients obtained by adding instances of `redis_ycsb` on `naan`:\n",
    "```python\n",
    "measurements = [0.01432621438691767, 0.014196753917670415, 0.014124212515962489, 0.014220166651701715]\n",
    "```\n",
    "Let's see how our confidence intervals look like:"
   ]
  },
  {
   "cell_type": "code",
   "execution_count": 4,
   "metadata": {},
   "outputs": [
    {
     "name": "stdout",
     "output_type": "stream",
     "text": [
      "Measurements: [0.01432621438691767, 0.014196753917670415]\n",
      "Mean is between 0.01406 and 0.01446 (±1.397%) with confidence 0.8\n",
      "Mean is between 0.01385 and 0.01467 (±2.866%) with confidence 0.9\n",
      "Mean is between 0.01344 and 0.01508 (±5.767%) with confidence 0.95\n",
      "Mean is between 0.01014 and 0.01838 (±28.89%) with confidence 0.99\n",
      "Mean is between -0.02695 and 0.05547 (±288.9%) with confidence 0.999\n",
      "\n",
      "Measurements: [0.01432621438691767, 0.014196753917670415, 0.014124212515962489]\n",
      "Mean is between 0.0141 and 0.01433 (±0.7836%) with confidence 0.8\n",
      "Mean is between 0.01404 and 0.01439 (±1.214%) with confidence 0.9\n",
      "Mean is between 0.01396 and 0.01447 (±1.788%) with confidence 0.95\n",
      "Mean is between 0.01363 and 0.0148 (±4.125%) with confidence 0.99\n",
      "Mean is between 0.01235 and 0.01608 (±13.13%) with confidence 0.999\n",
      "\n",
      "Measurements: [0.01432621438691767, 0.014196753917670415, 0.014124212515962489, 0.014220166651701715]\n",
      "Mean is between 0.01415 and 0.01429 (±0.4814%) with confidence 0.8\n",
      "Mean is between 0.01412 and 0.01432 (±0.6918%) with confidence 0.9\n",
      "Mean is between 0.01408 and 0.01435 (±0.9355%) with confidence 0.95\n",
      "Mean is between 0.01397 and 0.01446 (±1.717%) with confidence 0.99\n",
      "Mean is between 0.01368 and 0.01476 (±3.799%) with confidence 0.999\n",
      "\n"
     ]
    }
   ],
   "source": [
    "measurements = [0.01432621438691767, 0.014196753917670415, 0.014124212515962489, 0.014220166651701715]\n",
    "\n",
    "for i in range(0,3):\n",
    "    print_confidence_intervals(measurements[:i+2])"
   ]
  },
  {
   "cell_type": "markdown",
   "metadata": {},
   "source": [
    "Here we have some coefficients obtained by adding instances of `redis_ycsb` on `baati`.\n",
    "\n",
    "```python\n",
    "measurements = [0.006191, 0.004276, 0.006411, 0.006523, 0.006287]\n",
    "```\n",
    "\n",
    "This time we used `statsmodels` to calculate them."
   ]
  },
  {
   "cell_type": "code",
   "execution_count": 5,
   "metadata": {},
   "outputs": [
    {
     "name": "stdout",
     "output_type": "stream",
     "text": [
      "Measurements: [0.006191, 0.006411]\n",
      "Mean is between 0.005962 and 0.00664 (±5.373%) with confidence 0.8\n",
      "Mean is between 0.005606 and 0.006996 (±11.02%) with confidence 0.9\n",
      "Mean is between 0.004903 and 0.007699 (±22.18%) with confidence 0.95\n",
      "Mean is between -0.0007012 and 0.0133 (±111.1%) with confidence 0.99\n",
      "Mean is between -0.06373 and 0.07633 (±1.111e+03%) with confidence 0.999\n",
      "\n",
      "Measurements: [0.006191, 0.006411, 0.006523]\n",
      "Mean is between 0.006191 and 0.006559 (±2.884%) with confidence 0.8\n",
      "Mean is between 0.00609 and 0.00666 (±4.467%) with confidence 0.9\n",
      "Mean is between 0.005955 and 0.006795 (±6.582%) with confidence 0.95\n",
      "Mean is between 0.005407 and 0.007343 (±15.18%) with confidence 0.99\n",
      "Mean is between 0.003294 and 0.009456 (±48.34%) with confidence 0.999\n",
      "\n",
      "Measurements: [0.006191, 0.006411, 0.006523, 0.006287]\n",
      "Mean is between 0.006234 and 0.006472 (±1.866%) with confidence 0.8\n",
      "Mean is between 0.006183 and 0.006523 (±2.681%) with confidence 0.9\n",
      "Mean is between 0.006123 and 0.006583 (±3.626%) with confidence 0.95\n",
      "Mean is between 0.00593 and 0.006776 (±6.654%) with confidence 0.99\n",
      "Mean is between 0.005418 and 0.007288 (±14.72%) with confidence 0.999\n",
      "\n"
     ]
    }
   ],
   "source": [
    "measurements = [0.006191, 0.006411, 0.006523, 0.006287]\n",
    "\n",
    "for i in range(0,3):\n",
    "    print_confidence_intervals(measurements[:i+2])"
   ]
  },
  {
   "cell_type": "markdown",
   "metadata": {},
   "source": [
    "### redis_ycsb_d vs redis_ycsb_d from `puri`."
   ]
  },
  {
   "cell_type": "code",
   "execution_count": 6,
   "metadata": {},
   "outputs": [
    {
     "name": "stdout",
     "output_type": "stream",
     "text": [
      "Measurements: [0.58113, 0.593587, 0.564477]\n",
      "Mean is between 0.5638 and 0.5956 (±2.743%) with confidence 0.8\n",
      "Mean is between 0.5551 and 0.6044 (±4.247%) with confidence 0.9\n",
      "Mean is between 0.5434 and 0.616 (±6.258%) with confidence 0.95\n",
      "Mean is between 0.496 and 0.6634 (±14.44%) with confidence 0.99\n",
      "Mean is between 0.3133 and 0.8462 (±45.96%) with confidence 0.999\n",
      "\n",
      "Measurements: [0.58113, 0.593587, 0.564477, 0.565992]\n",
      "Mean is between 0.565 and 0.5876 (±1.956%) with confidence 0.8\n",
      "Mean is between 0.5601 and 0.5925 (±2.81%) with confidence 0.9\n",
      "Mean is between 0.5544 and 0.5982 (±3.8%) with confidence 0.95\n",
      "Mean is between 0.5361 and 0.6165 (±6.974%) with confidence 0.99\n",
      "Mean is between 0.4874 and 0.6652 (±15.43%) with confidence 0.999\n",
      "\n",
      "Measurements: [0.58113, 0.593587, 0.564477, 0.565992, 0.56754]\n",
      "Mean is between 0.5659 and 0.5831 (±1.497%) with confidence 0.8\n",
      "Mean is between 0.5626 and 0.5865 (±2.082%) with confidence 0.9\n",
      "Mean is between 0.559 and 0.5901 (±2.711%) with confidence 0.95\n",
      "Mean is between 0.5487 and 0.6004 (±4.496%) with confidence 0.99\n",
      "Mean is between 0.5262 and 0.6229 (±8.408%) with confidence 0.999\n",
      "\n",
      "Measurements: [0.58113, 0.593587, 0.564477, 0.565992, 0.56754, 0.573274]\n",
      "Mean is between 0.5676 and 0.5811 (±1.178%) with confidence 0.8\n",
      "Mean is between 0.5651 and 0.5836 (±1.609%) with confidence 0.9\n",
      "Mean is between 0.5625 and 0.5861 (±2.053%) with confidence 0.95\n",
      "Mean is between 0.5558 and 0.5928 (±3.22%) with confidence 0.99\n",
      "Mean is between 0.5428 and 0.6058 (±5.484%) with confidence 0.999\n",
      "\n",
      "Measurements: [0.58113, 0.593587, 0.564477, 0.565992, 0.56754, 0.573274, 0.569143]\n",
      "Mean is between 0.5679 and 0.5793 (±0.9905%) with confidence 0.8\n",
      "Mean is between 0.5659 and 0.5813 (±1.337%) with confidence 0.9\n",
      "Mean is between 0.5639 and 0.5832 (±1.683%) with confidence 0.95\n",
      "Mean is between 0.559 and 0.5882 (±2.551%) with confidence 0.99\n",
      "Mean is between 0.5501 and 0.5971 (±4.099%) with confidence 0.999\n",
      "\n",
      "Measurements: [0.58113, 0.593587, 0.564477, 0.565992, 0.56754, 0.573274, 0.569143, 0.578121]\n",
      "Mean is between 0.5693 and 0.5791 (±0.8536%) with confidence 0.8\n",
      "Mean is between 0.5676 and 0.5807 (±1.143%) with confidence 0.9\n",
      "Mean is between 0.566 and 0.5823 (±1.427%) with confidence 0.95\n",
      "Mean is between 0.562 and 0.5863 (±2.111%) with confidence 0.99\n",
      "Mean is between 0.5554 and 0.5929 (±3.263%) with confidence 0.999\n",
      "\n"
     ]
    }
   ],
   "source": [
    "# measurements_a = [0.586740, 0.569640, 0.569640, 0.547871]\n",
    "measurements_d = [0.581130, 0.593587, 0.564477, 0.565992, 0.567540, 0.573274, 0.569143, 0.578121]\n",
    "\n",
    "for i in range(len(measurements_d) - 5, len(measurements_d) + 1):\n",
    "    print_confidence_intervals(measurements_d[:i])"
   ]
  },
  {
   "cell_type": "code",
   "execution_count": 9,
   "metadata": {},
   "outputs": [
    {
     "ename": "ImportError",
     "evalue": "cannot import name 'bootstrap' from 'scipy.stats' (/home/godul/.local/lib/python3.7/site-packages/scipy/stats/__init__.py)",
     "output_type": "error",
     "traceback": [
      "\u001b[0;31m---------------------------------------------------------------------------\u001b[0m",
      "\u001b[0;31mImportError\u001b[0m                               Traceback (most recent call last)",
      "\u001b[0;32m<ipython-input-9-0e8947cafb46>\u001b[0m in \u001b[0;36m<module>\u001b[0;34m\u001b[0m\n\u001b[0;32m----> 1\u001b[0;31m \u001b[0;32mfrom\u001b[0m \u001b[0mscipy\u001b[0m\u001b[0;34m.\u001b[0m\u001b[0mstats\u001b[0m \u001b[0;32mimport\u001b[0m \u001b[0mbootstrap\u001b[0m\u001b[0;34m\u001b[0m\u001b[0;34m\u001b[0m\u001b[0m\n\u001b[0m",
      "\u001b[0;31mImportError\u001b[0m: cannot import name 'bootstrap' from 'scipy.stats' (/home/godul/.local/lib/python3.7/site-packages/scipy/stats/__init__.py)"
     ]
    }
   ],
   "source": [
    "def boot(m):\n",
    "    for i in range(len(m) - 5, len(m) + 1):\n",
    "        print(f'Measurements: {m[:i]}')\n",
    "        for a in [0.8, 0.9, 0.95, 0.99, 0.999]:\n",
    "            res = bootstrap((m[:i],), np.mean, confidence_level=a, n_resamples=99999)\n",
    "            low = res.confidence_interval.low\n",
    "            high = res.confidence_interval.high\n",
    "            h = high - low\n",
    "            me = (low + high) / 2\n",
    "            p = h / me * 100\n",
    "            print(f'Mean is {me:.4f} (±{p:.3f}%) with confidence {a}')"
   ]
  },
  {
   "cell_type": "code",
   "execution_count": null,
   "metadata": {},
   "outputs": [],
   "source": []
  }
 ],
 "metadata": {
  "kernelspec": {
   "display_name": "Python 3",
   "language": "python",
   "name": "python3"
  },
  "language_info": {
   "codemirror_mode": {
    "name": "ipython",
    "version": 3
   },
   "file_extension": ".py",
   "mimetype": "text/x-python",
   "name": "python",
   "nbconvert_exporter": "python",
   "pygments_lexer": "ipython3",
   "version": "3.7.5"
  },
  "pycharm": {
   "stem_cell": {
    "cell_type": "raw",
    "metadata": {
     "collapsed": false
    },
    "source": []
   }
  }
 },
 "nbformat": 4,
 "nbformat_minor": 4
}
