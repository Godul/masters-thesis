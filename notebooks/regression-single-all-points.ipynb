{
 "cells": [
  {
   "cell_type": "markdown",
   "metadata": {},
   "source": [
    "# Regression on all data (without means)"
   ]
  },
  {
   "cell_type": "markdown",
   "metadata": {},
   "source": [
    "## Redis YCSB 6x10min"
   ]
  },
  {
   "cell_type": "code",
   "execution_count": 1,
   "metadata": {},
   "outputs": [],
   "source": [
    "from helpers import (\n",
    "    add_instances_n,\n",
    "    fit_regression,\n",
    "    get_experiments_data,\n",
    ")"
   ]
  },
  {
   "cell_type": "code",
   "execution_count": 2,
   "metadata": {},
   "outputs": [
    {
     "name": "stdout",
     "output_type": "stream",
     "text": [
      "                            OLS Regression Results                            \n",
      "==============================================================================\n",
      "Dep. Variable:            app_latency   R-squared:                       0.920\n",
      "Model:                            OLS   Adj. R-squared:                  0.920\n",
      "Method:                 Least Squares   F-statistic:                     6433.\n",
      "Date:                Wed, 17 Jun 2020   Prob (F-statistic):          7.64e-309\n",
      "Time:                        03:19:18   Log-Likelihood:                 2447.9\n",
      "No. Observations:                 561   AIC:                            -4892.\n",
      "Df Residuals:                     559   BIC:                            -4883.\n",
      "Df Model:                           1                                         \n",
      "Covariance Type:            nonrobust                                         \n",
      "===============================================================================\n",
      "                  coef    std err          t      P>|t|      [0.025      0.975]\n",
      "-------------------------------------------------------------------------------\n",
      "Intercept       0.0689      0.000    244.116      0.000       0.068       0.069\n",
      "instances_n     0.0062   7.78e-05     80.205      0.000       0.006       0.006\n",
      "==============================================================================\n",
      "Omnibus:                       13.028   Durbin-Watson:                   0.688\n",
      "Prob(Omnibus):                  0.001   Jarque-Bera (JB):               13.282\n",
      "Skew:                           0.367   Prob(JB):                      0.00131\n",
      "Kurtosis:                       3.168   Cond. No.                         8.32\n",
      "==============================================================================\n",
      "\n",
      "Warnings:\n",
      "[1] Standard Errors assume that the covariance matrix of the errors is correctly specified.\n",
      "                            OLS Regression Results                            \n",
      "==============================================================================\n",
      "Dep. Variable:            app_latency   R-squared:                       0.942\n",
      "Model:                            OLS   Adj. R-squared:                  0.942\n",
      "Method:                 Least Squares   F-statistic:                     9089.\n",
      "Date:                Wed, 17 Jun 2020   Prob (F-statistic):               0.00\n",
      "Time:                        03:19:18   Log-Likelihood:                 2521.9\n",
      "No. Observations:                 560   AIC:                            -5040.\n",
      "Df Residuals:                     558   BIC:                            -5031.\n",
      "Df Model:                           1                                         \n",
      "Covariance Type:            nonrobust                                         \n",
      "===============================================================================\n",
      "                  coef    std err          t      P>|t|      [0.025      0.975]\n",
      "-------------------------------------------------------------------------------\n",
      "Intercept       0.0706      0.000    287.555      0.000       0.070       0.071\n",
      "instances_n     0.0065   6.78e-05     95.337      0.000       0.006       0.007\n",
      "==============================================================================\n",
      "Omnibus:                       37.805   Durbin-Watson:                   1.065\n",
      "Prob(Omnibus):                  0.000   Jarque-Bera (JB):               43.603\n",
      "Skew:                           0.659   Prob(JB):                     3.40e-10\n",
      "Kurtosis:                       3.361   Cond. No.                         8.32\n",
      "==============================================================================\n",
      "\n",
      "Warnings:\n",
      "[1] Standard Errors assume that the covariance matrix of the errors is correctly specified.\n",
      "                            OLS Regression Results                            \n",
      "==============================================================================\n",
      "Dep. Variable:            app_latency   R-squared:                       0.955\n",
      "Model:                            OLS   Adj. R-squared:                  0.955\n",
      "Method:                 Least Squares   F-statistic:                 1.188e+04\n",
      "Date:                Wed, 17 Jun 2020   Prob (F-statistic):               0.00\n",
      "Time:                        03:19:18   Log-Likelihood:                 2601.4\n",
      "No. Observations:                 562   AIC:                            -5199.\n",
      "Df Residuals:                     560   BIC:                            -5190.\n",
      "Df Model:                           1                                         \n",
      "Covariance Type:            nonrobust                                         \n",
      "===============================================================================\n",
      "                  coef    std err          t      P>|t|      [0.025      0.975]\n",
      "-------------------------------------------------------------------------------\n",
      "Intercept       0.0687      0.000    317.582      0.000       0.068       0.069\n",
      "instances_n     0.0065   5.97e-05    108.990      0.000       0.006       0.007\n",
      "==============================================================================\n",
      "Omnibus:                       59.217   Durbin-Watson:                   1.399\n",
      "Prob(Omnibus):                  0.000   Jarque-Bera (JB):              102.948\n",
      "Skew:                           0.671   Prob(JB):                     4.42e-23\n",
      "Kurtosis:                       4.611   Cond. No.                         8.32\n",
      "==============================================================================\n",
      "\n",
      "Warnings:\n",
      "[1] Standard Errors assume that the covariance matrix of the errors is correctly specified.\n",
      "                            OLS Regression Results                            \n",
      "==============================================================================\n",
      "Dep. Variable:            app_latency   R-squared:                       0.947\n",
      "Model:                            OLS   Adj. R-squared:                  0.947\n",
      "Method:                 Least Squares   F-statistic:                 1.005e+04\n",
      "Date:                Wed, 17 Jun 2020   Prob (F-statistic):               0.00\n",
      "Time:                        03:19:18   Log-Likelihood:                 2560.8\n",
      "No. Observations:                 560   AIC:                            -5118.\n",
      "Df Residuals:                     558   BIC:                            -5109.\n",
      "Df Model:                           1                                         \n",
      "Covariance Type:            nonrobust                                         \n",
      "===============================================================================\n",
      "                  coef    std err          t      P>|t|      [0.025      0.975]\n",
      "-------------------------------------------------------------------------------\n",
      "Intercept       0.0692      0.000    302.259      0.000       0.069       0.070\n",
      "instances_n     0.0063   6.32e-05    100.264      0.000       0.006       0.006\n",
      "==============================================================================\n",
      "Omnibus:                      104.157   Durbin-Watson:                   1.086\n",
      "Prob(Omnibus):                  0.000   Jarque-Bera (JB):              326.776\n",
      "Skew:                           0.869   Prob(JB):                     1.10e-71\n",
      "Kurtosis:                       6.315   Cond. No.                         8.31\n",
      "==============================================================================\n",
      "\n",
      "Warnings:\n",
      "[1] Standard Errors assume that the covariance matrix of the errors is correctly specified.\n"
     ]
    }
   ],
   "source": [
    "experiment_name = 'redis_ycsb_6x10'\n",
    "\n",
    "for exp_name, df in get_experiments_data(experiment_name):\n",
    "    df = add_instances_n(df, instances_n=6)\n",
    "    df = df[df['ai_name'] == 'ai_1']\n",
    "\n",
    "    results = fit_regression(data=df, formula='app_latency ~ instances_n')\n",
    "    print(results.summary())"
   ]
  },
  {
   "cell_type": "markdown",
   "metadata": {},
   "source": [
    "## Redis YCSB 12x10min"
   ]
  },
  {
   "cell_type": "code",
   "execution_count": 3,
   "metadata": {},
   "outputs": [
    {
     "name": "stdout",
     "output_type": "stream",
     "text": [
      "                            OLS Regression Results                            \n",
      "==============================================================================\n",
      "Dep. Variable:            app_latency   R-squared:                       0.948\n",
      "Model:                            OLS   Adj. R-squared:                  0.948\n",
      "Method:                 Least Squares   F-statistic:                 1.647e+04\n",
      "Date:                Wed, 17 Jun 2020   Prob (F-statistic):               0.00\n",
      "Time:                        03:19:19   Log-Likelihood:                 3507.8\n",
      "No. Observations:                 897   AIC:                            -7012.\n",
      "Df Residuals:                     895   BIC:                            -7002.\n",
      "Df Model:                           1                                         \n",
      "Covariance Type:            nonrobust                                         \n",
      "===============================================================================\n",
      "                  coef    std err          t      P>|t|      [0.025      0.975]\n",
      "-------------------------------------------------------------------------------\n",
      "Intercept       0.0696      0.000    224.982      0.000       0.069       0.070\n",
      "instances_n     0.0062   4.85e-05    128.335      0.000       0.006       0.006\n",
      "==============================================================================\n",
      "Omnibus:                       65.332   Durbin-Watson:                   0.556\n",
      "Prob(Omnibus):                  0.000   Jarque-Bera (JB):              181.046\n",
      "Skew:                           0.358   Prob(JB):                     4.86e-40\n",
      "Kurtosis:                       5.081   Cond. No.                         12.4\n",
      "==============================================================================\n",
      "\n",
      "Warnings:\n",
      "[1] Standard Errors assume that the covariance matrix of the errors is correctly specified.\n"
     ]
    }
   ],
   "source": [
    "experiment_name = 'redis_ycsb_12x10'\n",
    "\n",
    "for exp_name, df in get_experiments_data(experiment_name):\n",
    "    df = add_instances_n(df, instances_n=12)\n",
    "    df = df[df['ai_name'] == 'ai_1']\n",
    "    \n",
    "    results = fit_regression(data=df, formula='app_latency ~ instances_n')\n",
    "    print(results.summary())"
   ]
  },
  {
   "cell_type": "markdown",
   "metadata": {},
   "source": [
    "## Linpack 6x10min"
   ]
  },
  {
   "cell_type": "code",
   "execution_count": 4,
   "metadata": {},
   "outputs": [
    {
     "name": "stdout",
     "output_type": "stream",
     "text": [
      "                            OLS Regression Results                            \n",
      "==============================================================================\n",
      "Dep. Variable:         app_throughput   R-squared:                       0.856\n",
      "Model:                            OLS   Adj. R-squared:                  0.855\n",
      "Method:                 Least Squares   F-statistic:                     1657.\n",
      "Date:                Wed, 17 Jun 2020   Prob (F-statistic):          2.17e-119\n",
      "Time:                        03:19:19   Log-Likelihood:                -604.58\n",
      "No. Observations:                 281   AIC:                             1213.\n",
      "Df Residuals:                     279   BIC:                             1220.\n",
      "Df Model:                           1                                         \n",
      "Covariance Type:            nonrobust                                         \n",
      "===============================================================================\n",
      "                  coef    std err          t      P>|t|      [0.025      0.975]\n",
      "-------------------------------------------------------------------------------\n",
      "Intercept      36.5620      0.263    138.850      0.000      36.044      37.080\n",
      "instances_n    -3.0507      0.075    -40.712      0.000      -3.198      -2.903\n",
      "==============================================================================\n",
      "Omnibus:                        4.502   Durbin-Watson:                   1.735\n",
      "Prob(Omnibus):                  0.105   Jarque-Bera (JB):                4.817\n",
      "Skew:                          -0.173   Prob(JB):                       0.0900\n",
      "Kurtosis:                       3.540   Cond. No.                         7.90\n",
      "==============================================================================\n",
      "\n",
      "Warnings:\n",
      "[1] Standard Errors assume that the covariance matrix of the errors is correctly specified.\n"
     ]
    },
    {
     "name": "stderr",
     "output_type": "stream",
     "text": [
      "/home/godul/.local/lib/python3.7/site-packages/pandas/core/series.py:679: RuntimeWarning: invalid value encountered in reduce\n",
      "  result = getattr(ufunc, method)(*inputs, **kwargs)\n"
     ]
    }
   ],
   "source": [
    "experiment_name = 'linpack_6x10'\n",
    "\n",
    "for exp_name, df in get_experiments_data(experiment_name):\n",
    "    df = add_instances_n(df, instances_n=6)\n",
    "    df = df[df['ai_name'] == 'ai_1']\n",
    "\n",
    "    results = fit_regression(data=df, formula='app_throughput ~ instances_n')\n",
    "\n",
    "    print(results.summary())"
   ]
  },
  {
   "cell_type": "markdown",
   "metadata": {},
   "source": [
    "## Linpack 12x10min"
   ]
  },
  {
   "cell_type": "code",
   "execution_count": 5,
   "metadata": {},
   "outputs": [
    {
     "name": "stdout",
     "output_type": "stream",
     "text": [
      "                            OLS Regression Results                            \n",
      "==============================================================================\n",
      "Dep. Variable:         app_throughput   R-squared:                       0.925\n",
      "Model:                            OLS   Adj. R-squared:                  0.925\n",
      "Method:                 Least Squares   F-statistic:                     5152.\n",
      "Date:                Wed, 17 Jun 2020   Prob (F-statistic):          1.56e-237\n",
      "Time:                        03:19:19   Log-Likelihood:                -924.34\n",
      "No. Observations:                 421   AIC:                             1853.\n",
      "Df Residuals:                     419   BIC:                             1861.\n",
      "Df Model:                           1                                         \n",
      "Covariance Type:            nonrobust                                         \n",
      "===============================================================================\n",
      "                  coef    std err          t      P>|t|      [0.025      0.975]\n",
      "-------------------------------------------------------------------------------\n",
      "Intercept      34.3427      0.196    175.379      0.000      33.958      34.728\n",
      "instances_n    -2.3295      0.032    -71.776      0.000      -2.393      -2.266\n",
      "==============================================================================\n",
      "Omnibus:                        8.721   Durbin-Watson:                   0.975\n",
      "Prob(Omnibus):                  0.013   Jarque-Bera (JB):                8.596\n",
      "Skew:                          -0.316   Prob(JB):                       0.0136\n",
      "Kurtosis:                       2.699   Cond. No.                         11.3\n",
      "==============================================================================\n",
      "\n",
      "Warnings:\n",
      "[1] Standard Errors assume that the covariance matrix of the errors is correctly specified.\n"
     ]
    }
   ],
   "source": [
    "experiment_name = 'linpack_12x10'\n",
    "\n",
    "for exp_name, df in get_experiments_data(experiment_name):\n",
    "    df = add_instances_n(df, instances_n=12)\n",
    "    df = df[df['ai_name'] == 'ai_1']\n",
    "\n",
    "    results = fit_regression(data=df, formula='app_throughput ~ instances_n')\n",
    "    print(results.summary())"
   ]
  },
  {
   "cell_type": "markdown",
   "metadata": {},
   "source": [
    "## Hadoop 6x10min"
   ]
  },
  {
   "cell_type": "code",
   "execution_count": 6,
   "metadata": {},
   "outputs": [
    {
     "name": "stdout",
     "output_type": "stream",
     "text": [
      "                            OLS Regression Results                            \n",
      "==============================================================================\n",
      "Dep. Variable:         app_throughput   R-squared:                       0.177\n",
      "Model:                            OLS   Adj. R-squared:                  0.163\n",
      "Method:                 Least Squares   F-statistic:                     12.46\n",
      "Date:                Wed, 17 Jun 2020   Prob (F-statistic):           0.000822\n",
      "Time:                        03:19:19   Log-Likelihood:                -677.14\n",
      "No. Observations:                  60   AIC:                             1358.\n",
      "Df Residuals:                      58   BIC:                             1362.\n",
      "Df Model:                           1                                         \n",
      "Covariance Type:            nonrobust                                         \n",
      "===============================================================================\n",
      "                  coef    std err          t      P>|t|      [0.025      0.975]\n",
      "-------------------------------------------------------------------------------\n",
      "Intercept    8.044e+04   5477.430     14.686      0.000    6.95e+04    9.14e+04\n",
      "instances_n -5443.3495   1542.071     -3.530      0.001   -8530.141   -2356.558\n",
      "==============================================================================\n",
      "Omnibus:                       74.702   Durbin-Watson:                   2.326\n",
      "Prob(Omnibus):                  0.000   Jarque-Bera (JB):                6.668\n",
      "Skew:                          -0.285   Prob(JB):                       0.0357\n",
      "Kurtosis:                       1.469   Cond. No.                         8.17\n",
      "==============================================================================\n",
      "\n",
      "Warnings:\n",
      "[1] Standard Errors assume that the covariance matrix of the errors is correctly specified.\n"
     ]
    }
   ],
   "source": [
    "experiment_name = 'hadoop_6x10'\n",
    "\n",
    "for exp_name, df in get_experiments_data(experiment_name):\n",
    "    df = add_instances_n(df, instances_n=6)\n",
    "    df = df[df['ai_name'] == 'ai_1']\n",
    "\n",
    "    results = fit_regression(data=df, formula='app_throughput ~ instances_n')\n",
    "    print(results.summary())"
   ]
  },
  {
   "cell_type": "markdown",
   "metadata": {},
   "source": [
    "## Wrk 6x10min"
   ]
  },
  {
   "cell_type": "code",
   "execution_count": 7,
   "metadata": {},
   "outputs": [
    {
     "name": "stdout",
     "output_type": "stream",
     "text": [
      "                            OLS Regression Results                            \n",
      "==============================================================================\n",
      "Dep. Variable:            app_latency   R-squared:                       0.940\n",
      "Model:                            OLS   Adj. R-squared:                  0.939\n",
      "Method:                 Least Squares   F-statistic:                     1758.\n",
      "Date:                Wed, 17 Jun 2020   Prob (F-statistic):           1.02e-70\n",
      "Time:                        03:19:19   Log-Likelihood:                -350.45\n",
      "No. Observations:                 115   AIC:                             704.9\n",
      "Df Residuals:                     113   BIC:                             710.4\n",
      "Df Model:                           1                                         \n",
      "Covariance Type:            nonrobust                                         \n",
      "===============================================================================\n",
      "                  coef    std err          t      P>|t|      [0.025      0.975]\n",
      "-------------------------------------------------------------------------------\n",
      "Intercept       7.6052      1.082      7.029      0.000       5.461       9.749\n",
      "instances_n    11.9036      0.284     41.934      0.000      11.341      12.466\n",
      "==============================================================================\n",
      "Omnibus:                        0.363   Durbin-Watson:                   1.868\n",
      "Prob(Omnibus):                  0.834   Jarque-Bera (JB):                0.474\n",
      "Skew:                          -0.124   Prob(JB):                        0.789\n",
      "Kurtosis:                       2.807   Cond. No.                         9.09\n",
      "==============================================================================\n",
      "\n",
      "Warnings:\n",
      "[1] Standard Errors assume that the covariance matrix of the errors is correctly specified.\n"
     ]
    }
   ],
   "source": [
    "experiment_name = 'wrk_6x10'\n",
    "\n",
    "for exp_name, df in get_experiments_data(experiment_name):\n",
    "    df = add_instances_n(df, instances_n=6)\n",
    "    df = df[df['ai_name'] == 'ai_1']\n",
    "\n",
    "    results = fit_regression(data=df, formula='app_latency ~ instances_n')\n",
    "    print(results.summary())"
   ]
  },
  {
   "cell_type": "markdown",
   "metadata": {},
   "source": [
    "## Wrk 12x10min"
   ]
  },
  {
   "cell_type": "code",
   "execution_count": 8,
   "metadata": {},
   "outputs": [
    {
     "name": "stdout",
     "output_type": "stream",
     "text": [
      "                            OLS Regression Results                            \n",
      "==============================================================================\n",
      "Dep. Variable:            app_latency   R-squared:                       0.976\n",
      "Model:                            OLS   Adj. R-squared:                  0.976\n",
      "Method:                 Least Squares   F-statistic:                     9150.\n",
      "Date:                Wed, 17 Jun 2020   Prob (F-statistic):          8.08e-182\n",
      "Time:                        03:19:19   Log-Likelihood:                -690.48\n",
      "No. Observations:                 223   AIC:                             1385.\n",
      "Df Residuals:                     221   BIC:                             1392.\n",
      "Df Model:                           1                                         \n",
      "Covariance Type:            nonrobust                                         \n",
      "===============================================================================\n",
      "                  coef    std err          t      P>|t|      [0.025      0.975]\n",
      "-------------------------------------------------------------------------------\n",
      "Intercept      14.3295      0.755     18.981      0.000      12.842      15.817\n",
      "instances_n    10.0751      0.105     95.656      0.000       9.867      10.283\n",
      "==============================================================================\n",
      "Omnibus:                       20.384   Durbin-Watson:                   1.206\n",
      "Prob(Omnibus):                  0.000   Jarque-Bera (JB):               29.813\n",
      "Skew:                          -0.573   Prob(JB):                     3.36e-07\n",
      "Kurtosis:                       4.377   Cond. No.                         15.3\n",
      "==============================================================================\n",
      "\n",
      "Warnings:\n",
      "[1] Standard Errors assume that the covariance matrix of the errors is correctly specified.\n"
     ]
    }
   ],
   "source": [
    "experiment_name = 'wrk_12x10'\n",
    "\n",
    "for exp_name, df in get_experiments_data(experiment_name):\n",
    "    df = add_instances_n(df, instances_n=12)\n",
    "    df = df[df['ai_name'] == 'ai_1']\n",
    "\n",
    "    results = fit_regression(data=df, formula='app_latency ~ instances_n')\n",
    "    print(results.summary())"
   ]
  }
 ],
 "metadata": {
  "kernelspec": {
   "display_name": "Python 3",
   "language": "python",
   "name": "python3"
  },
  "language_info": {
   "codemirror_mode": {
    "name": "ipython",
    "version": 3
   },
   "file_extension": ".py",
   "mimetype": "text/x-python",
   "name": "python",
   "nbconvert_exporter": "python",
   "pygments_lexer": "ipython3",
   "version": "3.7.5"
  }
 },
 "nbformat": 4,
 "nbformat_minor": 4
}
